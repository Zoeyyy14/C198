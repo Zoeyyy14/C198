{
  "nbformat": 4,
  "nbformat_minor": 0,
  "metadata": {
    "colab": {
      "provenance": [],
      "authorship_tag": "ABX9TyOD2oTr5xc3VzmKGZVXzDxs",
      "include_colab_link": true
    },
    "kernelspec": {
      "name": "python3",
      "display_name": "Python 3"
    },
    "language_info": {
      "name": "python"
    }
  },
  "cells": [
    {
      "cell_type": "markdown",
      "metadata": {
        "id": "view-in-github",
        "colab_type": "text"
      },
      "source": [
        "<a href=\"https://colab.research.google.com/github/Zoeyyy14/C198/blob/main/C198.ipynb\" target=\"_parent\"><img src=\"https://colab.research.google.com/assets/colab-badge.svg\" alt=\"Open In Colab\"/></a>"
      ]
    },
    {
      "cell_type": "code",
      "execution_count": null,
      "metadata": {
        "colab": {
          "base_uri": "https://localhost:8080/"
        },
        "id": "pu4ADQLLQZHD",
        "outputId": "c75e6dbf-4c88-48c6-d1c1-ab41842099fb"
      },
      "outputs": [
        {
          "output_type": "stream",
          "name": "stdout",
          "text": [
            "Enter marks obtained in five subjects\n",
            "12\n",
            "13\n",
            "21\n",
            "31\n",
            "41\n",
            "average marks-23.6\n"
          ]
        }
      ],
      "source": [
        "total=0\n",
        "print(\"Enter marks obtained in five subjects\")\n",
        "for i in range(5):\n",
        "  score=int(input())\n",
        "  total+=score\n",
        "average=total/5\n",
        "print(f\"average marks-{average}\")"
      ]
    },
    {
      "cell_type": "code",
      "source": [
        "print(\"Calculator\")\n",
        "print(\"1. addition\")\n",
        "print(\"2. subtraction\")\n",
        "print(\"3. multiplication\")\n",
        "print(\"4. Division\")\n",
        "choice=int(input(\"Enter your choice(1,2,3,4)\"))\n",
        "if(choice >= 1 and choice <= 4):\n",
        "  print(\"Enter two numbers\")\n",
        "  number1=int(input(\"Enter the first number\"))\n",
        "  number2=int(input(\"Enter the second number\"))\n",
        "\n",
        "  if(choice == 1):\n",
        "    print(f\"result:{number1+number2}\")\n",
        "  elif(choice == 2):\n",
        "    print(f\"result:{number1-number2}\")\n",
        "  elif(choice == 3):\n",
        "    print(f\"result:{number1*number2}\")\n",
        "  elif(choice == 4):\n",
        "    print(f\"result:{number1/number2}\")\n",
        "else:\n",
        "  print(\"Incorrect input\")"
      ],
      "metadata": {
        "colab": {
          "base_uri": "https://localhost:8080/"
        },
        "id": "P3rcvJ9MRoxM",
        "outputId": "f3e2b48b-4d34-48db-a5f2-c8cf3a7ddaa9"
      },
      "execution_count": null,
      "outputs": [
        {
          "output_type": "stream",
          "name": "stdout",
          "text": [
            "Calculator\n",
            "1. addition\n",
            "2. subtraction\n",
            "3. multiplication\n",
            "4. Division\n",
            "Enter your choice(1,2,3,4)6\n",
            "Incorrect input\n"
          ]
        }
      ]
    },
    {
      "cell_type": "code",
      "source": [
        "i=1\n",
        "while(i<=20):\n",
        "  print(2*i-1)\n",
        "  i=i+1"
      ],
      "metadata": {
        "colab": {
          "base_uri": "https://localhost:8080/"
        },
        "id": "hVX3952cURm6",
        "outputId": "4aa19aab-9bea-4a2d-f777-b6463f2d507d"
      },
      "execution_count": null,
      "outputs": [
        {
          "output_type": "stream",
          "name": "stdout",
          "text": [
            "1\n",
            "3\n",
            "5\n",
            "7\n",
            "9\n",
            "11\n",
            "13\n",
            "15\n",
            "17\n",
            "19\n",
            "21\n",
            "23\n",
            "25\n",
            "27\n",
            "29\n",
            "31\n",
            "33\n",
            "35\n",
            "37\n",
            "39\n"
          ]
        }
      ]
    }
  ]
}